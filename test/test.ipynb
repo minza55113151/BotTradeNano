{
 "cells": [
  {
   "cell_type": "code",
   "execution_count": null,
   "metadata": {},
   "outputs": [
    {
     "ename": "",
     "evalue": "",
     "output_type": "error",
     "traceback": [
      "\u001b[1;31mRunning cells with 'venv' requires the ipykernel package.\n",
      "\u001b[1;31mRun the following command to install 'ipykernel' into the Python environment. \n",
      "\u001b[1;31mCommand: 'd:/Min/Programing_project/BotTradeN/venv/Scripts/python.exe -m pip install ipykernel -U --force-reinstall'"
     ]
    }
   ],
   "source": [
    "from time import time\n",
    "from pprint import pprint\n",
    "import sys, os\n",
    "import dotenv\n",
    "\n",
    "dotenv.load_dotenv()\n",
    "\n",
    "sys.path.append(os.getcwd())\n",
    "\n",
    "from trade import MyCLient"
   ]
  },
  {
   "cell_type": "code",
   "execution_count": null,
   "metadata": {},
   "outputs": [],
   "source": [
    "TEST_API_KEY = os.getenv(\"TEST_API_KEY\")\n",
    "TEST_SECRET_KEY = os.getenv(\"TEST_SECRET_KEY\")\n",
    "client = MyCLient(TEST_API_KEY, TEST_SECRET_KEY, testnet=True).create_client()\n",
    "pprint(client.client.get_account())\n",
    "pprint(client.get_value_symbol(symbol=\"ETHUSDT\", symbol1=\"ETH\", symbol2=\"USDT\"))"
   ]
  },
  {
   "attachments": {},
   "cell_type": "markdown",
   "metadata": {},
   "source": [
    "### Test time to create client ###"
   ]
  },
  {
   "cell_type": "code",
   "execution_count": 28,
   "metadata": {},
   "outputs": [
    {
     "name": "stdout",
     "output_type": "stream",
     "text": [
      "Time to create client: 2.55607271194458 seconds\n"
     ]
    }
   ],
   "source": [
    "TEST_API_KEY = os.getenv(\"TEST_API_KEY\")\n",
    "TEST_SECRET_KEY = os.getenv(\"TEST_SECRET_KEY\")\n",
    "\n",
    "t0 = time()\n",
    "for i in range(10):\n",
    "    client = MyCLient(TEST_API_KEY, TEST_SECRET_KEY, testnet=True).create_client()\n",
    "t1 = time()\n",
    "\n",
    "print(f\"Time to create client: {t1-t0} seconds\")"
   ]
  },
  {
   "attachments": {},
   "cell_type": "markdown",
   "metadata": {},
   "source": [
    "### stepSize = minQty"
   ]
  },
  {
   "cell_type": "code",
   "execution_count": null,
   "metadata": {},
   "outputs": [],
   "source": [
    "# API_KEY = os.getenv(\"API_KEY\")\n",
    "# SECRET_KEY = os.getenv(\"SECRET_KEY\")\n",
    "# client = MyCLient(API_KEY, SECRET_KEY)\n",
    "TEST_API_KEY = os.getenv(\"TEST_API_KEY\")\n",
    "TEST_SECRET_KEY = os.getenv(\"TEST_SECRET_KEY\")\n",
    "client = MyCLient(TEST_API_KEY, TEST_SECRET_KEY, testnet=True).create_client()\n",
    "for symbol, info in client.get_symbols_info().items():\n",
    "    print(symbol, info[\"filters\"][1][\"minQty\"]==info[\"filters\"][1][\"stepSize\"])"
   ]
  },
  {
   "cell_type": "code",
   "execution_count": 9,
   "metadata": {},
   "outputs": [
    {
     "name": "stdout",
     "output_type": "stream",
     "text": [
      "[{'_id': ObjectId('64561c13c4b7f9884f2ebfae'),\n",
      "  'binance': {'api_key': 'GRJaQlXdXyjHzKJv6uyfxIO1z7mTqq4QFzF0yFt4REJS1krN9lN2QipoDjfAg9lE',\n",
      "              'secret_key': 'J6rVvqYmHcSnQ6feekOxetR7WnCVGbDSt7qwzjJoUyMuBE6gpmb6Gb6Q6E9gfj7v',\n",
      "              'testnet': True},\n",
      "  'bitkub': {},\n",
      "  'is_bot_on': True},\n",
      " {'_id': ObjectId('64562f9ac4b7f9884f2ebfba'),\n",
      "  'binance': {'api_key': 'mCibYjeQcYHk1JKlZZu75klg6PTnI2TEg0KBec9CLDDmQ8x87BKU6p386abH7NbN',\n",
      "              'secret_key': 'mJQymxwhlLHYJ4rgfyEp2ejR3vWBVYbkbgPuIuv18KFv4lANJZ3TqLzNOq0fmsvf',\n",
      "              'testnet': False},\n",
      "  'bitkub': {},\n",
      "  'is_bot_on': False}]\n"
     ]
    }
   ],
   "source": [
    "from database.database import db\n",
    "pprint(list(db[\"customers\"].find()))"
   ]
  },
  {
   "cell_type": "code",
   "execution_count": 3,
   "metadata": {},
   "outputs": [
    {
     "name": "stdout",
     "output_type": "stream",
     "text": [
      "SELL ETH 0.03418 [66.0572934 USDT]\n",
      "Price ETH/USDT = 1932.63 USDT\n",
      "Balance ETH = 51.61962 ETH\n",
      "Balance USDT = 99629.5022161 USDT\n",
      "Value ETH = 99761.6262006 USDT\n",
      "Value USDT = 99629.5022161 USDT\n",
      "Sum = 199391.1284167 USDT\n",
      "Percent = 0.5\n",
      "Target Value ETH = 99695.56420835 USDT\n",
      "SELL ETH 0.03418 [66.0572934 USDT]\n",
      "Balance ETH = 51.58544 ETH\n",
      "Balance USDT = 99695.55950949999 USDT\n",
      "Value ETH = 99695.56890720001 USDT\n",
      "Value USDT = 99695.55950949999 USDT\n"
     ]
    },
    {
     "data": {
      "text/plain": [
       "True"
      ]
     },
     "execution_count": 3,
     "metadata": {},
     "output_type": "execute_result"
    }
   ],
   "source": [
    "TEST_API_KEY = os.getenv(\"TEST_API_KEY\")\n",
    "TEST_SECRET_KEY = os.getenv(\"TEST_SECRET_KEY\")\n",
    "client = MyCLient(TEST_API_KEY, TEST_SECRET_KEY, testnet=True).create_client()\n",
    "client.rebalance(is_buy=False, symbol=\"ETHUSDT\", symbol1=\"ETH\", symbol2=\"USDT\", percent=0.5, is_test=True)"
   ]
  },
  {
   "cell_type": "code",
   "execution_count": 5,
   "metadata": {},
   "outputs": [
    {
     "name": "stdout",
     "output_type": "stream",
     "text": [
      "None\n",
      "0\n",
      "0\n"
     ]
    }
   ],
   "source": [
    "class cls:\n",
    "    x = None        \n",
    "    def __init__(self) -> None:\n",
    "        if cls.x is None:\n",
    "            cls.x = 0\n",
    "    \n",
    "print(cls.x)\n",
    "a = cls()\n",
    "b = cls()\n",
    "print(a.x)\n",
    "print(b.x)\n"
   ]
  },
  {
   "cell_type": "code",
   "execution_count": 12,
   "metadata": {},
   "outputs": [
    {
     "name": "stdout",
     "output_type": "stream",
     "text": [
      "True\n"
     ]
    }
   ],
   "source": [
    "from pprint import pprint\n",
    "API_KEY = os.getenv(\"API_KEY\")\n",
    "API_SECRET = os.getenv(\"API_SECRET\")\n",
    "HOSTCLIENT = MyCLient(API_KEY, API_SECRET)\n",
    "HOSTCLIENT.setup_class()\n",
    "# pprint(HOSTCLIENT.symbol_info)\n",
    "# pprint(MyCLient.symbol_info)\n",
    "print(HOSTCLIENT.symbol_info == MyCLient.symbol_info)\n"
   ]
  },
  {
   "cell_type": "code",
   "execution_count": 3,
   "metadata": {},
   "outputs": [
    {
     "name": "stdout",
     "output_type": "stream",
     "text": [
      "Traceback (most recent call last):\n",
      "  File \"C:\\Users\\MinZung\\AppData\\Local\\Temp\\ipykernel_22876\\4272758450.py\", line 3, in <cell line: 2>\n",
      "    print(1/0)\n",
      "ZeroDivisionError: division by zero\n",
      "\n"
     ]
    }
   ],
   "source": [
    "import traceback\n",
    "try:\n",
    "    print(1/0)\n",
    "except:\n",
    "    error_message = traceback.format_exc()\n",
    "    print(error_message)\n"
   ]
  },
  {
   "cell_type": "code",
   "execution_count": null,
   "metadata": {},
   "outputs": [],
   "source": []
  }
 ],
 "metadata": {
  "kernelspec": {
   "display_name": "venv",
   "language": "python",
   "name": "python3"
  },
  "language_info": {
   "codemirror_mode": {
    "name": "ipython",
    "version": 3
   },
   "file_extension": ".py",
   "mimetype": "text/x-python",
   "name": "python",
   "nbconvert_exporter": "python",
   "pygments_lexer": "ipython3",
   "version": "3.9.13"
  },
  "orig_nbformat": 4
 },
 "nbformat": 4,
 "nbformat_minor": 2
}
