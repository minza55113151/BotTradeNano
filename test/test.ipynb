{
 "cells": [
  {
   "cell_type": "code",
   "execution_count": 3,
   "metadata": {},
   "outputs": [],
   "source": [
    "from time import time\n",
    "from pprint import pprint\n",
    "import sys, os\n",
    "from dotenv import load_dotenv\n",
    "load_dotenv()\n",
    "\n",
    "#if can't restart kernel\n",
    "sys.path.append(os.path.join(os.getcwd(),\"..\"))\n",
    "from trade import MyClient"
   ]
  },
  {
   "cell_type": "code",
   "execution_count": 4,
   "metadata": {},
   "outputs": [
    {
     "name": "stdout",
     "output_type": "stream",
     "text": [
      "{'accountType': 'SPOT',\n",
      " 'balances': [{'asset': 'BNB', 'free': '1000.00000000', 'locked': '0.00000000'},\n",
      "              {'asset': 'BTC', 'free': '1.00000000', 'locked': '0.00000000'},\n",
      "              {'asset': 'BUSD',\n",
      "               'free': '10000.00000000',\n",
      "               'locked': '0.00000000'},\n",
      "              {'asset': 'ETH', 'free': '63.69483000', 'locked': '0.00000000'},\n",
      "              {'asset': 'LTC', 'free': '500.00000000', 'locked': '0.00000000'},\n",
      "              {'asset': 'TRX',\n",
      "               'free': '500000.00000000',\n",
      "               'locked': '0.00000000'},\n",
      "              {'asset': 'USDT',\n",
      "               'free': '76730.58450190',\n",
      "               'locked': '0.00000000'},\n",
      "              {'asset': 'XRP',\n",
      "               'free': '50000.00000000',\n",
      "               'locked': '0.00000000'}],\n",
      " 'brokered': False,\n",
      " 'buyerCommission': 0,\n",
      " 'canDeposit': False,\n",
      " 'canTrade': True,\n",
      " 'canWithdraw': False,\n",
      " 'commissionRates': {'buyer': '0.00000000',\n",
      "                     'maker': '0.00000000',\n",
      "                     'seller': '0.00000000',\n",
      "                     'taker': '0.00000000'},\n",
      " 'makerCommission': 0,\n",
      " 'permissions': ['SPOT'],\n",
      " 'requireSelfTradePrevention': False,\n",
      " 'sellerCommission': 0,\n",
      " 'takerCommission': 0,\n",
      " 'updateTime': 1684075621742}\n",
      "191709.94382470002\n"
     ]
    }
   ],
   "source": [
    "TEST_API_KEY = os.getenv(\"TEST_API_KEY\")\n",
    "TEST_SECRET_KEY = os.getenv(\"TEST_SECRET_KEY\")\n",
    "_client = MyClient(TEST_API_KEY, TEST_SECRET_KEY, testnet=True).create_client()\n",
    "pprint(_client._client.get_account())\n",
    "pprint(_client.get_value_symbol(symbol=\"ETHUSDT\"))"
   ]
  },
  {
   "attachments": {},
   "cell_type": "markdown",
   "metadata": {},
   "source": [
    "### Test time to create client"
   ]
  },
  {
   "cell_type": "code",
   "execution_count": null,
   "metadata": {},
   "outputs": [],
   "source": [
    "TEST_API_KEY = os.getenv(\"TEST_API_KEY\")\n",
    "TEST_SECRET_KEY = os.getenv(\"TEST_SECRET_KEY\")\n",
    "\n",
    "t0 = time()\n",
    "for i in range(10):\n",
    "    _client = MyClient(TEST_API_KEY, TEST_SECRET_KEY, testnet=True).create_client()\n",
    "t1 = time()\n",
    "\n",
    "print(f\"Time to create client: {t1-t0} seconds\")"
   ]
  },
  {
   "attachments": {},
   "cell_type": "markdown",
   "metadata": {},
   "source": [
    "### Test time to create line"
   ]
  },
  {
   "cell_type": "code",
   "execution_count": 7,
   "metadata": {},
   "outputs": [
    {
     "name": "stdout",
     "output_type": "stream",
     "text": [
      "Time to create line notify: 0.0 seconds\n"
     ]
    }
   ],
   "source": [
    "from line_notify import LineNotify\n",
    "LINE_NOTIFY_TOKEN = os.getenv(\"LINE_NOTIFY_TOKEN\")\n",
    "t0 = time()\n",
    "for i in range(100):\n",
    "    line = LineNotify(LINE_NOTIFY_TOKEN)\n",
    "t1 = time()\n",
    "\n",
    "print(f\"Time to create line notify: {t1-t0} seconds\")"
   ]
  },
  {
   "attachments": {},
   "cell_type": "markdown",
   "metadata": {},
   "source": [
    "### stepSize = minQty"
   ]
  },
  {
   "cell_type": "code",
   "execution_count": null,
   "metadata": {},
   "outputs": [],
   "source": [
    "# API_KEY = os.getenv(\"API_KEY\")\n",
    "# SECRET_KEY = os.getenv(\"SECRET_KEY\")\n",
    "# client = MyCLient(API_KEY, SECRET_KEY)\n",
    "TEST_API_KEY = os.getenv(\"TEST_API_KEY\")\n",
    "TEST_SECRET_KEY = os.getenv(\"TEST_SECRET_KEY\")\n",
    "_client = MyClient(TEST_API_KEY, TEST_SECRET_KEY, testnet=True).create_client()\n",
    "for symbol, info in _client.get_symbols_info().items():\n",
    "    print(symbol, info[\"filters\"][1][\"minQty\"]==info[\"filters\"][1][\"stepSize\"])"
   ]
  },
  {
   "attachments": {},
   "cell_type": "markdown",
   "metadata": {},
   "source": [
    "### Test DB"
   ]
  },
  {
   "cell_type": "code",
   "execution_count": 21,
   "metadata": {},
   "outputs": [
    {
     "name": "stdout",
     "output_type": "stream",
     "text": [
      "64561c13c4b7f9884f2ebfae\n"
     ]
    }
   ],
   "source": [
    "from database.database import db\n",
    "customers = list(db[\"customers\"].find())\n",
    "print(customers[0][\"_id\"])"
   ]
  },
  {
   "cell_type": "code",
   "execution_count": null,
   "metadata": {},
   "outputs": [],
   "source": [
    "TEST_API_KEY = os.getenv(\"TEST_API_KEY\")\n",
    "TEST_SECRET_KEY = os.getenv(\"TEST_SECRET_KEY\")\n",
    "_client = MyClient(TEST_API_KEY, TEST_SECRET_KEY, testnet=True).create_client()\n",
    "_client.rebalance(is_buy=False, symbol=\"ETHUSDT\", symbol1=\"ETH\", symbol2=\"USDT\", percent=0.5, is_test=True)"
   ]
  },
  {
   "cell_type": "code",
   "execution_count": null,
   "metadata": {},
   "outputs": [],
   "source": [
    "class cls:\n",
    "    x = None        \n",
    "    def __init__(self) -> None:\n",
    "        if cls.x is None:\n",
    "            cls.x = 0\n",
    "    \n",
    "print(cls.x)\n",
    "a = cls()\n",
    "b = cls()\n",
    "print(a.x)\n",
    "print(b.x)\n"
   ]
  },
  {
   "cell_type": "code",
   "execution_count": 19,
   "metadata": {},
   "outputs": [
    {
     "name": "stdout",
     "output_type": "stream",
     "text": [
      "True\n",
      "False\n",
      "False\n"
     ]
    }
   ],
   "source": [
    "from pprint import pprint\n",
    "API_KEY = os.getenv(\"API_KEY\")\n",
    "API_SECRET = os.getenv(\"API_SECRET\")\n",
    "HOSTCLIENT = MyClient(API_KEY, API_SECRET).create_client()\n",
    "# pprint(HOSTCLIENT.symbols_info)\n",
    "# pprint(MyCLient.symbols_info)\n",
    "print(HOSTCLIENT.symbols_info == MyClient.symbols_info)\n",
    "print(HOSTCLIENT.symbols_info == None)\n",
    "print(MyClient.symbols_info == None)"
   ]
  },
  {
   "cell_type": "code",
   "execution_count": 10,
   "metadata": {},
   "outputs": [
    {
     "name": "stdout",
     "output_type": "stream",
     "text": [
      "Traceback (most recent call last):\n",
      "  File \"C:\\Users\\MinZung\\AppData\\Local\\Temp\\ipykernel_9940\\4272758450.py\", line 3, in <cell line: 2>\n",
      "    print(1/0)\n",
      "ZeroDivisionError: division by zero\n",
      "\n"
     ]
    }
   ],
   "source": [
    "import traceback\n",
    "try:\n",
    "    print(1/0)\n",
    "except:\n",
    "    error_message = traceback.format_exc()\n",
    "    print(error_message)\n"
   ]
  },
  {
   "cell_type": "code",
   "execution_count": null,
   "metadata": {},
   "outputs": [],
   "source": []
  }
 ],
 "metadata": {
  "kernelspec": {
   "display_name": "venv",
   "language": "python",
   "name": "python3"
  },
  "language_info": {
   "codemirror_mode": {
    "name": "ipython",
    "version": 3
   },
   "file_extension": ".py",
   "mimetype": "text/x-python",
   "name": "python",
   "nbconvert_exporter": "python",
   "pygments_lexer": "ipython3",
   "version": "3.9.13"
  },
  "orig_nbformat": 4
 },
 "nbformat": 4,
 "nbformat_minor": 2
}
